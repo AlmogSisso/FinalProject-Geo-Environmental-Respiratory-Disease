{
 "cells": [
  {
   "cell_type": "code",
   "execution_count": 1,
   "metadata": {
    "_cell_guid": "76d08cda-ac10-4cbb-a303-89f34db8a9f6",
    "_uuid": "58a8033f-8358-4b7e-8101-caa02a53afa6",
    "collapsed": false,
    "jupyter": {
     "outputs_hidden": false
    },
    "tags": []
   },
   "outputs": [],
   "source": [
    "import pandas as pd\n",
    "import numpy as np\n",
    "from scipy import stats\n",
    "from sklearn.preprocessing import MinMaxScaler, StandardScaler\n",
    "from sklearn.model_selection import train_test_split, GridSearchCV, cross_val_score\n",
    "from sklearn.utils import shuffle\n",
    "from sklearn.linear_model import LinearRegression\n",
    "from sklearn.ensemble import RandomForestRegressor\n",
    "import xgboost as xgb\n",
    "from xgboost import XGBRegressor\n",
    "import os\n",
    "import pickle\n",
    "from datetime import datetime\n",
    "from sklearn.metrics import r2_score, mean_squared_error, mean_absolute_error\n",
    "import time\n",
    "\n",
    "import warnings\n",
    "\n",
    "# התעלמות מכל ההתראות\n",
    "warnings.filterwarnings(\"ignore\")\n",
    "\n",
    "\n",
    "#pd.set_option('display.max_rows', None)\n"
   ]
  },
  {
   "cell_type": "markdown",
   "metadata": {
    "tags": []
   },
   "source": [
    "# יצירה של פייפליין"
   ]
  },
  {
   "cell_type": "markdown",
   "metadata": {
    "jp-MarkdownHeadingCollapsed": true,
    "tags": []
   },
   "source": [
    "### קריאה קובץ לבדיקה פנימית"
   ]
  },
  {
   "cell_type": "code",
   "execution_count": null,
   "metadata": {
    "tags": []
   },
   "outputs": [],
   "source": [
    "path ='InputData\\Panel_06.csv'\n",
    "panel_05_df = pd.read_csv(path)\n",
    "#panel_05_df.isnull().sum()\n"
   ]
  },
  {
   "cell_type": "markdown",
   "metadata": {
    "_cell_guid": "2ce9fe0e-6871-4044-b396-0eb615af913c",
    "_uuid": "e2e55ac2-1959-402c-8275-50e1d424b2f7",
    "tags": []
   },
   "source": [
    "## פונקציה מספר 1 - בחירת משתנה מטרה"
   ]
  },
  {
   "cell_type": "code",
   "execution_count": null,
   "metadata": {
    "_cell_guid": "06bca43d-39fd-4be7-a822-b58bb79e09fa",
    "_uuid": "aecd4c7b-cad4-49fa-b5f0-d71c6975b95d",
    "collapsed": false,
    "jupyter": {
     "outputs_hidden": false
    },
    "tags": []
   },
   "outputs": [],
   "source": [
    "\"\"\"def SelectTarget(df, disease):\n",
    "    columns_to_drop = []\n",
    "    if disease == 'AST':\n",
    "        print(\"Selected case: AST \\n\")\n",
    "        columns_to_drop = [col for col in df.columns if col.startswith('COPD')]\n",
    "        \n",
    "        # Remove rows where AST column is NaN\n",
    "        df = df.dropna(subset=['AST_Prevalence'])\n",
    "        \n",
    "    elif disease == 'COPD':\n",
    "        print(\"Selected case: COPD\")\n",
    "        columns_to_drop = [col for col in df.columns if col.startswith('AST')]\n",
    "        \n",
    "        # Remove rows where COPD column is NaN\n",
    "        df = df.dropna(subset=['COPD_Prevalence'])\n",
    "        \n",
    "    else:\n",
    "        print(\"Error: No matching case found for the disease provided.\")\n",
    "        return None\n",
    "\n",
    "    #print(f\"Columns to drop: {columns_to_drop}\")\n",
    "\n",
    "    updated_df = df.drop(columns=columns_to_drop)\n",
    "\n",
    "    return updated_df\"\"\"\n"
   ]
  },
  {
   "cell_type": "markdown",
   "metadata": {
    "tags": []
   },
   "source": [
    "### בדיקה פנימית"
   ]
  },
  {
   "cell_type": "code",
   "execution_count": null,
   "metadata": {
    "_cell_guid": "a677d5a9-4f4f-476d-9a2c-620a7d4a41ff",
    "_uuid": "083da91a-0e49-4fc1-9c69-660dac0deb75",
    "collapsed": false,
    "jupyter": {
     "outputs_hidden": false
    },
    "tags": []
   },
   "outputs": [],
   "source": [
    "\"\"\"df_after_SelectTarget = SelectTarget(panel_05_df,'AST')\n",
    "df_after_SelectTarget.head(2)\"\"\""
   ]
  },
  {
   "cell_type": "markdown",
   "metadata": {
    "_cell_guid": "6675a4f0-928b-4e4e-9815-df3151b052c4",
    "_uuid": "71f72a00-24c1-4da7-8ac8-c10277952378",
    "tags": []
   },
   "source": [
    "## פונקציה מספר 2 - החזרת דטא פריים לפי פיצ'רים נבחרים"
   ]
  },
  {
   "cell_type": "markdown",
   "metadata": {},
   "source": [
    "חלוקה לקטגוריות"
   ]
  },
  {
   "cell_type": "code",
   "execution_count": 2,
   "metadata": {
    "_cell_guid": "49c3df31-a77a-43d9-aaac-565df378adba",
    "_uuid": "301aa7d5-cbe0-4824-9dac-8910f33c4056",
    "collapsed": false,
    "jupyter": {
     "outputs_hidden": false
    },
    "tags": []
   },
   "outputs": [],
   "source": [
    "feature_categories = {\n",
    "    \"Gender\": {\n",
    "        \"description\": \"Demographic data based on gender\",\n",
    "        \"columns\": [\n",
    "            \"Total_All\", \"MALE_All\", \"FEMALE_All\", \n",
    "            \"Male_0_4\", \"Male_5_9\", \"Male_10_14\", \"Male_15_19\", \"Male_20_24\", \n",
    "            \"Male_25_29\", \"Male_30_34\", \"Male_35_39\", \"Male_40_44\", \"Male_45_49\", \n",
    "            \"Male_50_54\", \"Male_55_59\", \"Male_60_64\", \"Male_65_69\", \"Male_70_74\", \n",
    "            \"Male_75_79\", \"Male_80_84\", \"Male_85+\",\n",
    "            \"Female_0_4\", \"Female_5_9\", \"Female_10_14\", \"Female_15_19\", \"Female_20_24\", \n",
    "            \"Female_25_29\", \"Female_30_34\", \"Female_35_39\", \"Female_40_44\", \"Female_45_49\", \n",
    "            \"Female_50_54\", \"Female_55_59\", \"Female_60_64\", \"Female_65_69\", \"Female_70_74\", \n",
    "            \"Female_75_79\", \"Female_80_84\", \"Female_85+\"\n",
    "        ]\n",
    "    },\n",
    "    \"Asthma\": {\n",
    "        \"description\": \"Asthma-related data\",\n",
    "        \"columns\": [\n",
    "             \"AST002(percent)\", \"AST003(percent)\", \"AST004(percent)\"\n",
    "        ]\n",
    "    },\n",
    "    \"COPD\": {\n",
    "        \"description\": \"Chronic Obstructive Pulmonary Disease (COPD) related data\",\n",
    "        \"columns\": [\n",
    "             \"COPD002(percent)\", \"COPD003(percent)\", \n",
    "            \"COPD004(percent)\", \"COPD005(percent)\", \"COPD007(percent)\"\n",
    "        ]\n",
    "    },\n",
    "    \"Income\": {\n",
    "        \"description\": \"Economic data related to income\",\n",
    "        \"columns\": [\n",
    "            \"Weighted_Total_annual_income_(£)\", \"Weighted_Net_annual_income_(£)\", \n",
    "            \"Weighted_Net_annual_income_before_housing_costs_(£)\", \n",
    "            \"Weighted_Net_annual_income_after_housing_costs_(£)\"\n",
    "        ]\n",
    "    },\n",
    "    \"Deprivation\": {\n",
    "        \"description\": \"Data related to deprivation index\",\n",
    "        \"columns\": [\n",
    "            \"Weighted_Index_of_Multiple_Deprivation_(IMD)\", \"Weighted_Income\", \n",
    "            \"Weighted_Employment\", \"Weighted_Education,_Skills_and_Training\", \n",
    "            \"Weighted_Health_Deprivation_and_Disability\", \"Weighted_Crime\", \n",
    "            \"Weighted_Barriers_to_Housing_and_Services\", \"Weighted_Living_Environment\"\n",
    "        ]\n",
    "    },\n",
    "    \"Parks_and_Housing\": {\n",
    "        \"description\": \"Data related to parks and housing\",\n",
    "        \"columns\": [\n",
    "            \"Weighted_ParksOnly_Average_distance_to_nearest_Park_or_Public_Garden_(m)\",\n",
    "            \"Weighted_ParksOnly_Average_size_of_nearest_Park_or_Public_Garden_(m2)\",\n",
    "            \"Weighted_ParksOnly_Average_number_of_Parks_or_Public_Gardens_within_1,000_m_radius\",\n",
    "            \"Weighted_ParksOnly_Number_of_built_up_area_postcodes__within_300m_of_a_Park_or_Public_Garden_(percentage)\",\n",
    "            \"Weighted_ParksOnly_Number_of_built_up_area_postcodes__within_900m_of_a_Park_or_Public_Garden_(percentage)\",\n",
    "            \"Weighted_ParksAndPlayingFields_Average_distance_to_nearest_Park_Public_Garden_or_Playing_Field_(m)\",\n",
    "            \"Weighted_ParksAndPlayingFields_Average_size_of_nearest_Park_Public_Garden_or_Playing_Field_(m2)\",\n",
    "            \"Weighted_ParksAndPlayingFields_Average_number_of__Parks_Public_Gardens_or_Playing_Fields_within_1,000_m_radius\",\n",
    "            \"Weighted_ParksAndPlayingFields_Number_of_built_up_area_postcodes__within_300m_of_a_Park_Public_Garden_or_Playing_Field_(percentage)\",\n",
    "            \"Weighted_ParksAndPlayingFields_Number_of_built_up_area_postcodes__within_900m_of_a_Park_Public_Garden_or_Playing_Field_(percentage)\",\n",
    "            \"Weighted_Houses_Percentage_of_adresses_with_private_outdoor_space\",\n",
    "            \"Weighted_Houses_Average_size_of_private_outdoor_space_(m2)\",\n",
    "            \"Weighted_Houses_Median_size_of_private_outdoor_space_(m2)\",\n",
    "            \"Weighted_Flats_Percentage_of_adresses_with_private_outdoor_space\",\n",
    "            \"Weighted_Flats_Average_size_of_private_outdoor_space_(m2)\",\n",
    "            \"Weighted_Flats_Average_number_of_flats_sharing_a_garden\",\n",
    "            \"Weighted_Total_Percentage_of_adresses_with_private_outdoor_space\"\n",
    "        ]\n",
    "    },\n",
    "    \"Obesity\": {\n",
    "        \"description\": \"Obesity-related data\",\n",
    "        \"columns\": [\n",
    "            \"Obesity_Prevalence(per_cent)\"\n",
    "        ]\n",
    "    },\n",
    "    \"Smoking\": {\n",
    "        \"description\": \"Smoking-related data\",\n",
    "        \"columns\": [\n",
    "            \"SMOK002(percent)\",\n",
    "            \"SMOK004(percent)\",\n",
    "            \"SMOK005(percent)\"\n",
    "        ]\n",
    "    }\n",
    "}\n"
   ]
  },
  {
   "cell_type": "code",
   "execution_count": 3,
   "metadata": {
    "_cell_guid": "fc2cc8b7-6a5c-4a3c-a655-6b78235f472a",
    "_uuid": "050599bc-37cd-4b8d-b40e-ec425463f258",
    "collapsed": false,
    "jupyter": {
     "outputs_hidden": false
    },
    "tags": []
   },
   "outputs": [],
   "source": [
    "def SelectFeatures(df, feature_types, disease):\n",
    "    Target = \"\"\n",
    "    if disease == 'AST':\n",
    "        Target = 'AST_Prevalence'\n",
    "    elif disease == 'COPD':\n",
    "        Target = 'COPD_Prevalence'\n",
    "    else:\n",
    "        print(\"Error: No matching case found for the disease provided.\")\n",
    "        return None\n",
    "    \n",
    "    print(\"Selected Categories :\\n\")\n",
    "    selected_features = []\n",
    "    \n",
    "\n",
    "    for feature_type in feature_types:\n",
    "        if feature_type in feature_categories:\n",
    "            selected_features.extend(feature_categories[feature_type][\"columns\"])\n",
    "            print(f\"{feature_type}:\")\n",
    "            print(\", \".join(feature_categories[feature_type][\"columns\"]))\n",
    "            print(f\"Description: {feature_categories[feature_type]['description']}\\n\")\n",
    "        else:\n",
    "            print(f\"Error: Feature type '{feature_type}' not found!\")\n",
    "\n",
    "    selected_features_df = df[selected_features].copy()  # Make a copy of the selected features\n",
    "    selected_features_df['YEAR'] = df['YEAR']\n",
    "    selected_features_df[Target] = df[Target]\n",
    "\n",
    "    return selected_features_df"
   ]
  },
  {
   "cell_type": "markdown",
   "metadata": {
    "jp-MarkdownHeadingCollapsed": true,
    "tags": []
   },
   "source": [
    "### בדיקה פנימית"
   ]
  },
  {
   "cell_type": "code",
   "execution_count": null,
   "metadata": {
    "_cell_guid": "5330226f-8c6e-407b-9084-1a07ebbd1031",
    "_uuid": "4698d7bd-167f-47f4-8d45-365cc50660af",
    "collapsed": false,
    "jupyter": {
     "outputs_hidden": false
    },
    "tags": []
   },
   "outputs": [],
   "source": [
    "SelectedCategories = ['Asthma', 'Smoking']\n",
    "df_after_SelectFeatures = SelectFeatures(panel_05_df ,SelectedCategories , 'AST' )\n",
    "df_after_SelectFeatures.head(2)\n"
   ]
  },
  {
   "cell_type": "markdown",
   "metadata": {
    "_cell_guid": "70aa38e5-7890-44d4-880e-3b6d12164ad5",
    "_uuid": "f0f0b70a-845e-42fe-937a-6a1c73a51478",
    "tags": []
   },
   "source": [
    "## פונקציה מספר 3 - ניקוי חריגים"
   ]
  },
  {
   "cell_type": "code",
   "execution_count": 4,
   "metadata": {
    "_cell_guid": "f17aef4b-b125-4e19-b7d2-7e51b8c19c06",
    "_uuid": "5f092cfc-76c5-4837-9559-cabce9a97e46",
    "collapsed": false,
    "jupyter": {
     "outputs_hidden": false
    },
    "tags": []
   },
   "outputs": [],
   "source": [
    "def OutliersRemoveOrReplace(df, method_outliers, threshold, action):\n",
    "    \"\"\"\n",
    "    Clean outliers from a DataFrame.\n",
    "    \n",
    "    Parameters:\n",
    "    df (pd.DataFrame): The input DataFrame.\n",
    "    method_outliers (str): The method to use for outlier detection ('IQR' or 'StdDev').\n",
    "    threshold (float): The threshold for determining outliers.\n",
    "    action (str): The action to take on outliers ('remove' or 'replace'). \n",
    "    \n",
    "    Returns:\n",
    "    pd.DataFrame: The DataFrame with outliers handled.\n",
    "    \"\"\"\n",
    "    # Select only numeric columns for outlier detection\n",
    "    numeric_df = df.select_dtypes(include=[np.number])\n",
    "\n",
    "    if method_outliers == 'IQR':\n",
    "        Q1 = numeric_df.quantile(0.25)\n",
    "        Q3 = numeric_df.quantile(0.75)\n",
    "        IQR = Q3 - Q1\n",
    "        filter_condition = ~((numeric_df < (Q1 - threshold * IQR)) | (numeric_df > (Q3 + threshold * IQR))).any(axis=1)\n",
    "        outlier_condition = ((numeric_df < (Q1 - threshold * IQR)) | (numeric_df > (Q3 + threshold * IQR)))\n",
    "    elif method_outliers == 'StdDev':\n",
    "        mean = numeric_df.mean()\n",
    "        std_dev = numeric_df.std()\n",
    "        filter_condition = ~((numeric_df < (mean - threshold * std_dev)) | (numeric_df > (mean + threshold * std_dev))).any(axis=1)\n",
    "        outlier_condition = ((numeric_df < (mean - threshold * std_dev)) | (numeric_df > (mean + threshold * std_dev)))\n",
    "    else:\n",
    "        raise ValueError(\"Invalid method. Choose 'IQR' or 'StdDev'.\")\n",
    "\n",
    "    if action == 'remove':\n",
    "        # Filter the original dataframe to remove outliers\n",
    "        df_clean = df[filter_condition]\n",
    "        \n",
    "        print(\"Clean outliers method:\", method_outliers)\n",
    "        print(\"Threshold:\", threshold)\n",
    "        print(\"Action: remove outliers\")\n",
    "        print(f\"Number of outliers removed: {len(df) - len(df_clean)}\")\n",
    "        print(f\"Number of rows in the cleaned dataset: {len(df_clean)}\\n\")\n",
    "        \n",
    "        return df_clean\n",
    "    \n",
    "    elif action == 'replace':\n",
    "        # Replace outliers with NaN\n",
    "        df_replaced = df.copy()\n",
    "        df_replaced[outlier_condition] = np.nan\n",
    "        \n",
    "        print(\"Clean outliers method:\", method_outliers)\n",
    "        print(\"Threshold:\", threshold)\n",
    "        print(\"Action: replace outliers with NaN\")\n",
    "        print(f\"Number of outliers replaced with NaN: {outlier_condition.sum().sum()}\")\n",
    "        \n",
    "        return df_replaced\n",
    "    \n",
    "    else:\n",
    "        raise ValueError(\"Invalid action. Choose 'remove' or 'replace'.\")\n"
   ]
  },
  {
   "cell_type": "markdown",
   "metadata": {
    "jp-MarkdownHeadingCollapsed": true,
    "tags": []
   },
   "source": [
    "### בדיקה פנימית"
   ]
  },
  {
   "cell_type": "code",
   "execution_count": null,
   "metadata": {
    "_cell_guid": "49baf10a-5f19-4a77-8223-aca2916fce9c",
    "_uuid": "0efc79da-4b69-4aa9-8529-9b7cf920150a",
    "collapsed": false,
    "jupyter": {
     "outputs_hidden": false
    },
    "tags": []
   },
   "outputs": [],
   "source": [
    "method_outliers='IQR'\n",
    "threshold = 1.5\n",
    "Outliersaction='replace'\n",
    "df_after_Clean_outliers = OutliersRemoveOrReplace(df_after_SelectFeatures, method_outliers, threshold, Outliersaction)\n",
    "( df_after_SelectFeatures,method_outliers, threshold)\n",
    "df_after_Clean_outliers.head(2)"
   ]
  },
  {
   "cell_type": "markdown",
   "metadata": {
    "_cell_guid": "a8c14ef9-a1e2-46af-93a7-4c527064389d",
    "_uuid": "20238757-9047-4026-8ae8-770edbc954ad",
    "jp-MarkdownHeadingCollapsed": true,
    "tags": []
   },
   "source": [
    "### בדיקה של ערכים חריגים"
   ]
  },
  {
   "cell_type": "code",
   "execution_count": null,
   "metadata": {
    "_cell_guid": "2b298262-9883-4845-92d6-bec1ad7f7ca8",
    "_uuid": "913b15bc-e87e-4b78-b023-02d8cf768844",
    "collapsed": false,
    "jupyter": {
     "outputs_hidden": false
    }
   },
   "outputs": [],
   "source": [
    "Data_chek_outliers = {\n",
    "    'Apple': np.array([100, 150, 10., 40., 60., 50., 60., 60., 50., 20., 100., 70., 40., 30., 100., 100., 60., 40., 10., 50.]),\n",
    "    'Banana': np.array([50., 45., 2, 30., 15., 10., 45., 15., 15., 50., 15., 10., -15, 15., 10., 50., 500, 15., 100, 32]),\n",
    "    'Cherry': np.array([100., 70., 30., 80., 70., 40., 40., 1000, 100., 15, 30., 100., 30., 10., 90., 40., 50., 70., 50, 30.]),\n",
    "    'Pear': np.array([45., 55., 5., 35., 35., 35., 45., 35., 55., 25., 0, 45., 75., 25., 55., 15., 95., 75., 75., 45.]),\n",
    "    'Elderberry': np.array([48., 84., 96., 48., 48., 24., 102., 96., 84., 108., 12., 60., 96., 36., 36., 60., 36., 72., 96., 72.])\n",
    "}\n",
    "\n",
    "df_chek_outliers = pd.DataFrame(Data_chek_outliers)\n",
    "df_chek_outliers"
   ]
  },
  {
   "cell_type": "code",
   "execution_count": null,
   "metadata": {
    "_cell_guid": "8461708b-256f-402b-bbf9-3cc23454a7e8",
    "_uuid": "15607fdd-b650-4e17-bce3-bc57382b896b"
   },
   "outputs": [],
   "source": [
    "\"\"\"הפונקציה calculate_outlier_bounds \n",
    "מקבלת דאטה פריים ומחזירה מילון שבו לכל עמודה יש גבולות עליונים ותחתונים לפי שיטת הזיהוי שנבחרה \n",
    "(IQR, Z-score או StdDev).\"\"\"\n",
    "\n",
    "def calculate_outlier_bounds(df, method='IQR', threshold=1.5):\n",
    "    outlier_bounds = {}\n",
    "    \n",
    "    for column in df.columns:\n",
    "        data = df[column]\n",
    "        \n",
    "        if method == 'IQR':\n",
    "            Q1 = data.quantile(0.25)\n",
    "            Q3 = data.quantile(0.75)\n",
    "            IQR = Q3 - Q1\n",
    "            lower_bound = Q1 - threshold * IQR\n",
    "            upper_bound = Q3 + threshold * IQR\n",
    "        elif method == 'Z-score':\n",
    "            z_scores = np.abs(stats.zscore(data))\n",
    "            lower_bound = np.mean(data) - threshold * np.std(data)\n",
    "            upper_bound = np.mean(data) + threshold * np.std(data)\n",
    "        elif method == 'StdDev':\n",
    "            mean = data.mean()\n",
    "            std_dev = data.std()\n",
    "            lower_bound = mean - threshold * std_dev\n",
    "            upper_bound = mean + threshold * std_dev\n",
    "        else:\n",
    "            raise ValueError(\"Invalid method. Choose 'IQR', 'Z-score', or 'StdDev'.\")\n",
    "        \n",
    "        outlier_bounds[column] = {'lower_bound': lower_bound, 'upper_bound': upper_bound}\n",
    "    \n",
    "    return outlier_bounds\n",
    "\n",
    "# קריאה לפונקציה והדפסת התוצאות\n",
    "outlier_bounds = calculate_outlier_bounds(df_chek_outliers)\n",
    "for column, bounds in outlier_bounds.items():\n",
    "    print(f\"Column: {column}\")\n",
    "    print(f\"Lower Bound: {bounds['lower_bound']}, Upper Bound: {bounds['upper_bound']}\")\n"
   ]
  },
  {
   "cell_type": "code",
   "execution_count": null,
   "metadata": {
    "_cell_guid": "bed45189-5661-47c9-8623-8adf6adebcfd",
    "_uuid": "fedf2ef8-173e-4293-9e6c-cada702e7fc4",
    "collapsed": false,
    "jupyter": {
     "outputs_hidden": false
    }
   },
   "outputs": [],
   "source": [
    "df_after_chek_outliers= OutliersRemoveOrReplace(df_chek_outliers, method_outliers, threshold, Outliersaction)\n",
    "df_after_chek_outliers"
   ]
  },
  {
   "cell_type": "markdown",
   "metadata": {
    "_cell_guid": "97837f80-4300-4717-b04e-c74be1364250",
    "_uuid": "dad41a58-2065-4793-bdac-ca101b2f437a",
    "tags": []
   },
   "source": [
    "## פונקציה מספר 4 - השלמת חסרים"
   ]
  },
  {
   "cell_type": "code",
   "execution_count": 9,
   "metadata": {
    "_cell_guid": "a681a95e-c183-47e8-ab27-6e815209a056",
    "_uuid": "1344037f-0518-46d0-a305-36d49f800201",
    "collapsed": false,
    "jupyter": {
     "outputs_hidden": false
    },
    "tags": []
   },
   "outputs": [],
   "source": [
    "def Fill_missing_values(df, method_missing_values):\n",
    "        \n",
    "    # Count initial missing values\n",
    "    initial_missing_count = df.isnull().sum().sum()\n",
    "    \n",
    "    if method_missing_values == 'mean':\n",
    "        df_filled = df.fillna(df.mean())\n",
    "    elif method_missing_values == 'median':\n",
    "        df_filled = df.fillna(df.median())\n",
    "    elif method_missing_values == 'drop_rows':\n",
    "        df_filled = df.dropna()\n",
    "    else:\n",
    "        raise ValueError(\"Invalid method. Choose 'mean', 'median', or 'drop_rows'.\")\n",
    "\n",
    "    # Count remaining missing values\n",
    "    remaining_missing_count = df_filled.isnull().sum().sum()\n",
    "\n",
    "    # Calculate number of missing values handled\n",
    "    num_filled = initial_missing_count - remaining_missing_count\n",
    "\n",
    "    print(\"missing values method:\", method_missing_values)\n",
    "    print(f\"Number of missing values handled: {num_filled}\")\n",
    "    print(f\"Number of remaining missing values: {remaining_missing_count}\")\n",
    "    PercentageOfHandel = num_filled / df.size * 100\n",
    "    if method_missing_values == 'drop_rows':\n",
    "        print(f\"Number of remaining rows: {df_filled.shape[0]}\")\n",
    "    print(f\"Percentage of values handled: {PercentageOfHandel:.2f}%\\n\")\n",
    "\n",
    " \n",
    "\n",
    "    return df_filled, num_filled, PercentageOfHandel"
   ]
  },
  {
   "cell_type": "markdown",
   "metadata": {},
   "source": [
    "### בדיקה פנימית"
   ]
  },
  {
   "cell_type": "code",
   "execution_count": null,
   "metadata": {
    "_cell_guid": "aaf50054-71ee-42ee-bd5d-d0104c7d91d9",
    "_uuid": "3be050e1-82f5-40d8-a14a-93c806da072a",
    "collapsed": false,
    "jupyter": {
     "outputs_hidden": false
    },
    "tags": []
   },
   "outputs": [],
   "source": [
    "method_missing_values='mean'\n",
    "df_after_Fill_missing_values, num_filled, PercentageOfHandel = Fill_missing_values(df_after_Clean_outliers, method_missing_values)\n",
    "df_after_Fill_missing_values.head(5)\n"
   ]
  },
  {
   "cell_type": "markdown",
   "metadata": {
    "_cell_guid": "810126a4-5c72-41ef-85fe-0d3b517a609b",
    "_uuid": "54f6a3cd-36f8-4c6f-a346-83da0b72da91",
    "tags": []
   },
   "source": [
    "### בדיקה של השלמת חוסרים"
   ]
  },
  {
   "cell_type": "code",
   "execution_count": null,
   "metadata": {
    "_cell_guid": "b6c499f3-6506-466e-ac2d-93040721e537",
    "_uuid": "2b370f66-01e8-433f-899a-32cc1b53bc76",
    "collapsed": false,
    "jupyter": {
     "outputs_hidden": false
    }
   },
   "outputs": [],
   "source": [
    "# Setting the seed for reproducibility\n",
    "np.random.seed(50)\n",
    "\n",
    "# Creating a DataFrame with 5 columns and 10 rows with some missing values\n",
    "data_chek_missing = {\n",
    "    'Apple': np.random.choice([np.nan, *range(10, 110, 10)], 20),\n",
    "    'Banana': np.random.choice([np.nan, *range(5, 55, 5)], 20),\n",
    "    'Cherry': np.random.choice([np.nan, *range(10, 110, 10)], 20),\n",
    "    'Pear': np.random.choice([np.nan, *range(5, 105, 10)], 20),\n",
    "    'Elderberry': np.random.choice([np.nan, *range(12, 120, 12)], 20)\n",
    "}\n",
    "\n",
    "\n",
    "df_chek_missing = pd.DataFrame(data_chek_missing)\n",
    "df_chek_missing"
   ]
  },
  {
   "cell_type": "code",
   "execution_count": null,
   "metadata": {
    "_cell_guid": "e3061dd2-cae1-42dd-b511-674c723c7e3b",
    "_uuid": "854c195a-20eb-435a-be42-2bb73aff1003",
    "collapsed": false,
    "jupyter": {
     "outputs_hidden": false
    }
   },
   "outputs": [],
   "source": [
    "mean_values = df_chek_missing.mean()\n",
    "print(\"\\nMean values of each product:\")\n",
    "print(mean_values)\n",
    "\n",
    "df_chek_missing.isnull().sum()"
   ]
  },
  {
   "cell_type": "code",
   "execution_count": null,
   "metadata": {
    "_cell_guid": "b759b593-f0eb-42d0-9e21-5b0905e83385",
    "_uuid": "b0beebce-d2a6-47ae-9c5b-555ef5a08b3f",
    "collapsed": false,
    "jupyter": {
     "outputs_hidden": false
    }
   },
   "outputs": [],
   "source": [
    "df_after_chek_missing, w, z = Fill_missing_values(df_chek_missing, method_missing_values)\n",
    "print(df_after_chek_missing)"
   ]
  },
  {
   "cell_type": "markdown",
   "metadata": {
    "_cell_guid": "e0dc8dce-e108-49b4-966e-1947f646753d",
    "_uuid": "130c5447-99e3-4fbd-a021-e803768fe759",
    "tags": []
   },
   "source": [
    "## פונקציה מספר 5 - ולידאציה של היפר פרמטים"
   ]
  },
  {
   "cell_type": "code",
   "execution_count": 11,
   "metadata": {
    "tags": []
   },
   "outputs": [],
   "source": [
    "def safe_map(func, value_str):\n",
    "    if value_str.strip('[]'):\n",
    "        return list(map(func, value_str.strip('[]').split(',')))\n",
    "    else:\n",
    "        return []\n"
   ]
  },
  {
   "cell_type": "markdown",
   "metadata": {
    "tags": []
   },
   "source": [
    "## פונקציה מספר 6 - סינון שורות לפי שנים"
   ]
  },
  {
   "cell_type": "code",
   "execution_count": 13,
   "metadata": {
    "tags": []
   },
   "outputs": [],
   "source": [
    "def FilterByYears(df, years):\n",
    "    # בדיקת קיום עמודת השנה\n",
    "    if 'YEAR' not in df.columns:\n",
    "        print(\"Error: 'YEAR' column does not exist in DataFrame\")\n",
    "        return None\n",
    "    \n",
    "    # המרת years לרשימה אם זה לא רשימה כבר\n",
    "    if not isinstance(years, list):\n",
    "        years = [years]\n",
    "    \n",
    "    df['YEAR'] = df['YEAR'].astype(str).str.strip()\n",
    "    df = df[df['YEAR'].str.isnumeric()]\n",
    "    \n",
    "    available_years = set(df['YEAR'].unique())\n",
    "    missing_years = [year for year in years if year not in available_years]\n",
    "    \n",
    "    if missing_years:\n",
    "        print(f\"Warning: The following years are not available in the DataFrame: {missing_years}\")\n",
    "    \n",
    "    # סינון ה-DataFrame לפי השנים שהתקבלו\n",
    "    filtered_df = df[df['YEAR'].isin(years)].copy()\n",
    "    filtered_df['YEAR'] = filtered_df['YEAR'].astype(int)\n",
    "    print(f\"Years selected for filtering: {years}\")\n",
    "    return filtered_df"
   ]
  },
  {
   "cell_type": "markdown",
   "metadata": {
    "tags": []
   },
   "source": [
    "### בדיקה פנימית"
   ]
  },
  {
   "cell_type": "code",
   "execution_count": null,
   "metadata": {
    "tags": []
   },
   "outputs": [],
   "source": [
    "years_to_filter = ['2014','2015','2016']\n",
    "type(years_to_filter)\n",
    "print(years_to_filter)"
   ]
  },
  {
   "cell_type": "code",
   "execution_count": null,
   "metadata": {
    "tags": []
   },
   "outputs": [],
   "source": [
    "after_FilterByYears_df = FilterByYears(df_after_Fill_missing_values, years_to_filter)\n"
   ]
  },
  {
   "cell_type": "code",
   "execution_count": null,
   "metadata": {
    "tags": []
   },
   "outputs": [],
   "source": [
    "unique_years = after_FilterByYears_df['YEAR'].unique()\n",
    "print(unique_years)\n",
    "after_FilterByYears_df.head(2)"
   ]
  },
  {
   "cell_type": "markdown",
   "metadata": {
    "_cell_guid": "66d606c8-77d9-4a64-bde3-9bcf818a8271",
    "_uuid": "849eceee-03a7-4b37-a830-f2ec1cdfeaf5",
    "tags": []
   },
   "source": [
    "## פונקציה מספר 7  - נרמול ערכים"
   ]
  },
  {
   "cell_type": "code",
   "execution_count": 15,
   "metadata": {
    "_cell_guid": "7aa0c6e3-6809-4e83-9767-0dc95aacdce9",
    "_uuid": "cff46fae-1877-484a-b611-ffabe5891b43",
    "collapsed": false,
    "jupyter": {
     "outputs_hidden": false
    },
    "tags": []
   },
   "outputs": [],
   "source": [
    "def Normalize_data(df, normalize_method):\n",
    "    \n",
    "    if normalize_method == 'Min-Max':\n",
    "        scaler = MinMaxScaler()\n",
    "        print(\"Normalization method: Min-Max\\n\")\n",
    "    elif normalize_method == 'Quartile':\n",
    "        print(\"Normalization method: Quartile\\n\")\n",
    "        scaler = None\n",
    "    else:\n",
    "        print(\"Invalid normalization method. Choose 'Min-Max' or 'Quartile'.\")\n",
    "        return df\n",
    "    \n",
    "    # הפרדת העמודה האחרונה\n",
    "    last_column = df.iloc[:, -1]\n",
    "    columns_to_normalize = df.iloc[:, :-1]\n",
    "    \n",
    "    if normalize_method == 'Min-Max':\n",
    "        # נרמול העמודות מלבד העמודה האחרונה\n",
    "        normalized_data = pd.DataFrame(scaler.fit_transform(columns_to_normalize), columns=columns_to_normalize.columns)\n",
    "    elif normalize_method == 'Quartile':\n",
    "        # חישוב רבעונים\n",
    "        Q1 = columns_to_normalize.quantile(0.25)\n",
    "        Q3 = columns_to_normalize.quantile(0.75)\n",
    "        IQR = Q3 - Q1\n",
    "        normalized_data = (columns_to_normalize - Q1) / IQR\n",
    "    \n",
    "    # הוספת העמודה האחרונה חזרה ל-DataFrame\n",
    "    normalized_data = pd.concat([normalized_data, last_column.reset_index(drop=True)], axis=1)\n",
    "       \n",
    "    return normalized_data"
   ]
  },
  {
   "cell_type": "markdown",
   "metadata": {
    "tags": []
   },
   "source": [
    "### בדיקה פנימית\n"
   ]
  },
  {
   "cell_type": "code",
   "execution_count": null,
   "metadata": {
    "_cell_guid": "9b4b0c98-be7e-4f7d-99f9-da3dc3736e8e",
    "_uuid": "9d4b46d5-160d-46d6-bc2e-69c7c86616c1",
    "collapsed": false,
    "jupyter": {
     "outputs_hidden": false
    },
    "tags": []
   },
   "outputs": [],
   "source": [
    "#בדיקה פנימית\n",
    "normalize_method  = 'Min-Max'\n",
    "normalize_method  = 'Quartile'\n",
    "df_after_Normalize_data = Normalize_data(after_FilterByYears_df, normalize_method)\n",
    "df_after_Normalize_data.head(3)"
   ]
  },
  {
   "cell_type": "markdown",
   "metadata": {
    "_cell_guid": "b6f99dfb-c7d0-4cd7-9011-f470c752ca27",
    "_uuid": "9c9b22f0-9d96-4e02-b21f-3229e3a36396",
    "tags": []
   },
   "source": [
    "## XY פונקציה מספר 8 - פיצול סט מבחן וחלוקה ל"
   ]
  },
  {
   "cell_type": "code",
   "execution_count": 17,
   "metadata": {
    "_cell_guid": "06ab7c79-f86f-4a77-8b71-a0d6f36e2de5",
    "_uuid": "09b0f7da-82c2-490d-bd77-49667b80b8a3",
    "collapsed": false,
    "jupyter": {
     "outputs_hidden": false
    },
    "tags": []
   },
   "outputs": [],
   "source": [
    "def SplitDataAndPrepForModel(df, test_size=0.2 ):\n",
    "    \n",
    "    columns_to_drop = ['YEAR']\n",
    "    \n",
    "    df_after_drop = df.drop(columns=columns_to_drop)\n",
    "    # Shuffle the DataFrame\n",
    "    df_shuffled = shuffle(df_after_drop, random_state=42)\n",
    "\n",
    "    X = df_shuffled.iloc[:, :-1] # הסרת העמודה האחרונה\n",
    "    y = df_shuffled.iloc[:, -1]  # בחירת העמודה האחרונה  \n",
    "\n",
    "    X_train, X_test, y_train, y_test = train_test_split(X, y, test_size=test_size, random_state=42)\n",
    "\n",
    "\n",
    "    return X_train, X_test, y_train, y_test"
   ]
  },
  {
   "cell_type": "markdown",
   "metadata": {
    "tags": []
   },
   "source": [
    "בדיקה פנימית"
   ]
  },
  {
   "cell_type": "code",
   "execution_count": null,
   "metadata": {
    "_cell_guid": "a894832b-13fd-4552-9149-b9f8326cd5be",
    "_uuid": "9537f976-a0f7-4e33-bbd9-190328a1c85b",
    "collapsed": false,
    "jupyter": {
     "outputs_hidden": false
    },
    "tags": []
   },
   "outputs": [],
   "source": [
    "X_train, X_test, y_train, y_test = SplitDataAndPrepForModel(df_after_Normalize_data, test_size=0.2)\n"
   ]
  },
  {
   "cell_type": "markdown",
   "metadata": {
    "_cell_guid": "26e8bc14-9f4c-4cfa-b11f-0a4945471895",
    "_uuid": "b8e95ab1-fa35-4402-89d1-548881e6a149",
    "tags": []
   },
   "source": [
    "## פונקציה 9 - אימון וולדיצה של המודל"
   ]
  },
  {
   "cell_type": "code",
   "execution_count": 19,
   "metadata": {
    "_cell_guid": "83a9f6d8-226d-4d28-a876-4349a4471a99",
    "_uuid": "148559b3-5b95-489b-88b7-1d000afd6f66",
    "collapsed": false,
    "jupyter": {
     "outputs_hidden": false
    },
    "tags": []
   },
   "outputs": [],
   "source": [
    "def train_and_evaluate_model(X_train, X_test, y_train, y_test, param_grid, model_name, expriment_number, cv=3):\n",
    "    if model_name == 'random_forest':\n",
    "        model = RandomForestRegressor()\n",
    "    elif model_name == 'linear_regression':\n",
    "        model = LinearRegression()\n",
    "    elif model_name == 'xgboost':\n",
    "        model = XGBRegressor()\n",
    "    else:\n",
    "        raise ValueError(f\"Unsupported model: {model_name}\")\n",
    "    \n",
    "    print(\"model_name:\", model_name)\n",
    "    print(\"cv:\", cv)\n",
    "\n",
    "    grid_search = GridSearchCV(model, param_grid, cv=cv, scoring='neg_mean_squared_error')\n",
    "    grid_search.fit(X_train, y_train)\n",
    "\n",
    "    best_model = grid_search.best_estimator_\n",
    "\n",
    "    # Get cross-validation scores\n",
    "    scores = cross_val_score(best_model, X_train, y_train, cv=cv, scoring='neg_mean_squared_error')\n",
    "    mean_score = scores.mean()\n",
    "    std_score = scores.std()  # Standard deviation of the cross-validation scores\n",
    "    rmse_score = np.sqrt(-scores)  # RMSE for each fold in cross-validation\n",
    "\n",
    "    # Evaluate on test data\n",
    "    r_squared = best_model.score(X_test, y_test)  # R^2 on test data\n",
    "    y_pred = best_model.predict(X_test)\n",
    "    mse_test = mean_squared_error(y_test, y_pred)\n",
    "    mae_test = mean_absolute_error(y_test, y_pred)\n",
    "    rmse_test = np.sqrt(mse_test)  # RMSE on test data\n",
    "    std_test = np.std(y_pred)  # Standard deviation of the test predictions\n",
    "    \n",
    "    print(\"best_model:\", best_model)\n",
    "    print(\"best_params:\", best_model.get_params())\n",
    "    print(\"cross_val_scores:\", scores)\n",
    "    print(\"mean_cross_val_score:\", mean_score)\n",
    "    print(\"std_cross_val_score:\", std_score)\n",
    "    print(\"mean_cross_val_rmse:\", rmse_score.mean())\n",
    "    print(\"r2_score:\", r_squared)\n",
    "    print(\"mean_squared_error_test:\", mse_test)\n",
    "    print(\"mean_absolute_error_test:\", mae_test)\n",
    "    print(\"root_mean_squared_error_test:\", rmse_test)\n",
    "    print(\"std_test:\", std_test)\n",
    "    \n",
    "    results = {\n",
    "        'best_model': best_model,\n",
    "        'cross_val_scores': scores,\n",
    "        'mean_cross_val_score': mean_score,\n",
    "        'std_cross_val_score': std_score,\n",
    "        'mean_cross_val_rmse': rmse_score.mean(),\n",
    "        'r_squared': r_squared,\n",
    "        'best_params': best_model.get_params(),\n",
    "        'mse_test': mse_test,\n",
    "        'mae_test': mae_test,\n",
    "        'rmse_test': rmse_test,\n",
    "        'std_test': std_test\n",
    "    }\n",
    "    \n",
    "    # Save the best model using pickle\n",
    "    output_path = './outputData/'\n",
    "    model_filename = f'Output_ExperimentNumber{expriment_number}.pkl'\n",
    "    model_filepath = os.path.join(output_path, model_filename)\n",
    "    with open(model_filepath, 'wb') as f:\n",
    "        pickle.dump(best_model, f)\n",
    "    \n",
    "    return results"
   ]
  },
  {
   "cell_type": "code",
   "execution_count": null,
   "metadata": {},
   "outputs": [],
   "source": []
  },
  {
   "cell_type": "markdown",
   "metadata": {
    "tags": []
   },
   "source": [
    "## פונקציה - יוצרת גריד פרמטרים"
   ]
  },
  {
   "cell_type": "code",
   "execution_count": 21,
   "metadata": {
    "tags": []
   },
   "outputs": [],
   "source": [
    "def get_param_grid(model_name, model_params):\n",
    "    param_grid = {}\n",
    "    \n",
    "    if model_name == 'random_forest':\n",
    "        param_grid = {key: model_params[key] for key in model_params.keys() & {'n_estimators', 'max_depth', 'min_samples_split', 'min_samples_leaf'}}\n",
    "    elif model_name == 'linear_regression':\n",
    "        param_grid = {}\n",
    "    elif model_name == 'xgboost':\n",
    "        param_grid = {key: model_params[key] for key in model_params.keys() & {'n_estimators', 'max_depth', 'learning_rate', 'colsample_bytree', 'reg_lambda'}}\n",
    "    else:\n",
    "        raise ValueError(f\"Unsupported model: {model_name}\")\n",
    "        \n",
    "    print('The param grid for '+model_name+ ' model is:\\n' )\n",
    "    print(param_grid)\n",
    "\n",
    "\n",
    "    return param_grid\n"
   ]
  },
  {
   "cell_type": "markdown",
   "metadata": {
    "_cell_guid": "5381d1ee-b286-40c1-8fb3-7ab8e2d3da45",
    "_uuid": "09213f7f-f61e-4e67-8945-dbee0b08a810",
    "tags": []
   },
   "source": [
    "## פונקציה 10 -  יוצרת פאנל, מפעילה את כל שאר הפונקציות"
   ]
  },
  {
   "cell_type": "code",
   "execution_count": 23,
   "metadata": {
    "tags": []
   },
   "outputs": [],
   "source": [
    "# מהופכת את הפאנל ,  להיות מוכן למודל\n",
    "\n",
    "def Make_final_panel (panel_path,disease ,feature_types,method_outliers,threshold,Outliersaction,method_missing_values,normalize_method,years):\n",
    "    \n",
    "    OG_panel_df = pd.read_csv(panel_path)       \n",
    "    after_FilterByYears_df = FilterByYears(OG_panel_df,years)\n",
    "    after_selectFeatures_df = SelectFeatures(after_FilterByYears_df, feature_types, disease)\n",
    "    after_CleanOutliers_df = OutliersRemoveOrReplace( after_selectFeatures_df , method_outliers, threshold,Outliersaction)\n",
    "    after_missingValues_df,num_filled, remaining_missing_count = Fill_missing_values(after_CleanOutliers_df, method_missing_values)\n",
    "    after_NormalizeData_df = Normalize_data(after_missingValues_df, normalize_method)\n",
    "    \n",
    "    return after_NormalizeData_df\n",
    "\n",
    "    \n",
    "\n",
    " \n",
    "\n"
   ]
  },
  {
   "cell_type": "markdown",
   "metadata": {
    "tags": []
   },
   "source": [
    "# פונקציה סופית"
   ]
  },
  {
   "cell_type": "code",
   "execution_count": 25,
   "metadata": {
    "tags": []
   },
   "outputs": [],
   "source": [
    "\n",
    "# הפונקציה הראשית שמבצעת את כל הניסויים\n",
    "def Final_fun(file_path_of_params, panel_path):\n",
    "    \n",
    "    # קריאת קובץ האקסל המכיל את פרמטרי הניסויים\n",
    "    ExprimentTracker_df = pd.read_excel(file_path_of_params, keep_default_na=False,skiprows = 8 )\n",
    "    \n",
    "   \n",
    "    # יצירת DataFrame ריק עם כותרות מתאימות\n",
    "    all_results = pd.DataFrame(columns=['ExperimentNumber'] + list(ExprimentTracker_df.columns))\n",
    "\n",
    "\n",
    "\n",
    "    # קריאת תוצאות קיימות אם הקובץ קיים\n",
    " #   if os.path.exists(results_filename):\n",
    "  #      all_results = pd.read_excel(results_filename)\n",
    "    \n",
    "    # מעבר על כל שורה בקובץ האקסל של פרמטרי הניסויים\n",
    "    for index, row in ExprimentTracker_df.iterrows():\n",
    "        \n",
    "        \n",
    "        # שליפת פרטי הניסוי הנוכחי\n",
    "        experiment_number = int(row['ExperimentNumber'])  # מספר הניסוי\n",
    "        years = row['Years'].split(', ')  # השנים הנכללות בניסוי\n",
    "        target = row['target']  # מטרה\n",
    "        feature_types = row['feature_types'].split(', ')  # סוגי מאפיינים\n",
    "        method_outliers = row['method_outliers']  # שיטת טיפול בנקודות חריגות\n",
    "        Outliersaction = row['Outliersaction'] # מחיקה של שורה או לשים ערך ריק\n",
    "        threshold = row['threshold']  # סף\n",
    "        method_missing_values = row['method_missing_values']  # שיטת טיפול בערכים חסרים\n",
    "        normalize_method = row['normalize_method']  # שיטת נורמליזציה\n",
    "        model_name = row['model_name']  # שם המודל\n",
    "        n_estimators = safe_map(int, str(row['n_estimators']))  # מספר האסימאטורים\n",
    "        max_depth = safe_map(int, str(row['max_depth']))  # עומק מקסימלי\n",
    "        learning_rate = safe_map(float, str(row['learning_rate']))  # שיעור למידה\n",
    "        min_samples_split = safe_map(int, str(row['min_samples_split']))  # מינימום דוגמאות לפיצול\n",
    "        min_samples_leaf = safe_map(int, str(row['min_samples_leaf']))  # מינימום דוגמאות בעלה\n",
    "        colsample_bytree = safe_map(float, str(row['colsample_bytree']))  # דגימה לפי עץ\n",
    "        reg_lambda = safe_map(float, str(row['reg_lambda']))  # פרמטר רגולריזציה\n",
    "        cv = int(row['cv'])  # קרוס ולידציה\n",
    "        \n",
    "        # הדפסת מידע על הניסוי הנוכחי\n",
    "        print('\\n', 25*\"#\", \" Experiment Number \", experiment_number, 25*\"#\")\n",
    "\n",
    "        # יצירת הפאנל הסופי על פי הפרמטרים\n",
    "        final_panel = Make_final_panel(panel_path, target, feature_types, method_outliers, threshold,Outliersaction, method_missing_values, normalize_method, years)\n",
    "\n",
    "        # חלוקת הנתונים לערכות אימון ובדיקה\n",
    "        X_train, X_test, y_train, y_test = SplitDataAndPrepForModel(final_panel, test_size=0.2)\n",
    "        \n",
    "        # הגדרת פרמטרי המודל\n",
    "        model_params = {\n",
    "            'n_estimators': n_estimators,\n",
    "            'max_depth': max_depth,\n",
    "            'learning_rate': learning_rate,\n",
    "            'min_samples_split': min_samples_split,\n",
    "            'min_samples_leaf': min_samples_leaf,\n",
    "            'colsample_bytree': colsample_bytree,\n",
    "            'reg_lambda': reg_lambda,\n",
    "        }\n",
    "        \n",
    "        # יצירת גריד של פרמטרים למודל\n",
    "        param_grid = get_param_grid(model_name, model_params)\n",
    "        \n",
    "        start_time = time.time()\n",
    "        \n",
    "        # אימון והערכת המודל\n",
    "        results = train_and_evaluate_model(X_train, X_test, y_train, y_test, param_grid, model_name,  experiment_number,cv)\n",
    "        \n",
    "        end_time = time.time()\n",
    "        total_time_seconds = end_time - start_time\n",
    "        total_time_minutes = total_time_seconds / 60  # Convert seconds to minutes\n",
    "        \n",
    "        # וידוא שהתוצאות הן מילון\n",
    "        if not isinstance(results, dict):\n",
    "            raise ValueError(\"The results from train_and_evaluate_model should be a dictionary\")\n",
    "\n",
    "        # יצירת שורת נתונים חדשה עם תוצאות הניסוי\n",
    "        new_row = row.to_dict()\n",
    "        new_row.update(results)\n",
    "        new_row['date_time'] = datetime.now().strftime('%Y-%m-%d %H:%M:%S')\n",
    "        new_row['RunTimeMinutes'] = total_time_minutes        \n",
    "        new_row['num_columns'] = (final_panel.shape[1]-1)\n",
    "        new_row['num_rows'] = final_panel.shape[0]\n",
    "      \n",
    "        new_row_df = pd.DataFrame([new_row])\n",
    "        print(\"Running time in minutes  : \",total_time_minutes  )\n",
    "        \n",
    "        # וידוא שהעמודות ייחודיות\n",
    "        all_results = all_results.loc[:,~all_results.columns.duplicated()]\n",
    "        new_row_df = new_row_df.loc[:,~new_row_df.columns.duplicated()]\n",
    "\n",
    "        # בדיקת עמודות חסרות והוספת ערכי None\n",
    "        missing_cols = set(all_results.columns) - set(new_row_df.columns)\n",
    "        for col in missing_cols:\n",
    "            new_row_df[col] = None\n",
    "        \n",
    "        # הוספת השורה החדשה ל-DataFrame של כל התוצאות\n",
    "        all_results = pd.concat([all_results, new_row_df], ignore_index=True)\n",
    "        \n",
    "            # שם הקובץ לשמירת התוצאות\n",
    "        results_filename = \"Output_ExprimentResults_\"+model_name+\".xlsx\"\n",
    "        \n",
    "        # שמירת התוצאות לקובץ אקסל\n",
    "        all_results.to_excel(results_filename, index=False)\n",
    "        #all_results.info()\n",
    "\n",
    "              \n",
    "    return all_results\n"
   ]
  },
  {
   "cell_type": "markdown",
   "metadata": {
    "tags": []
   },
   "source": [
    "# הרצה של פונקציה סופית"
   ]
  },
  {
   "cell_type": "code",
   "execution_count": 35,
   "metadata": {
    "tags": []
   },
   "outputs": [
    {
     "name": "stdout",
     "output_type": "stream",
     "text": [
      "\n",
      " #########################  Experiment Number  1 #########################\n",
      "Years selected for filtering: ['2013', '2014', '2015', '2016', '2017', '2018', '2019']\n",
      "Selected Categories :\n",
      "\n",
      "Gender:\n",
      "Total_All, MALE_All, FEMALE_All, Male_0_4, Male_5_9, Male_10_14, Male_15_19, Male_20_24, Male_25_29, Male_30_34, Male_35_39, Male_40_44, Male_45_49, Male_50_54, Male_55_59, Male_60_64, Male_65_69, Male_70_74, Male_75_79, Male_80_84, Male_85+, Female_0_4, Female_5_9, Female_10_14, Female_15_19, Female_20_24, Female_25_29, Female_30_34, Female_35_39, Female_40_44, Female_45_49, Female_50_54, Female_55_59, Female_60_64, Female_65_69, Female_70_74, Female_75_79, Female_80_84, Female_85+\n",
      "Description: Demographic data based on gender\n",
      "\n",
      "Income:\n",
      "Weighted_Total_annual_income_(£), Weighted_Net_annual_income_(£), Weighted_Net_annual_income_before_housing_costs_(£), Weighted_Net_annual_income_after_housing_costs_(£)\n",
      "Description: Economic data related to income\n",
      "\n",
      "Deprivation:\n",
      "Weighted_Index_of_Multiple_Deprivation_(IMD), Weighted_Income, Weighted_Employment, Weighted_Education,_Skills_and_Training, Weighted_Health_Deprivation_and_Disability, Weighted_Crime, Weighted_Barriers_to_Housing_and_Services, Weighted_Living_Environment\n",
      "Description: Data related to deprivation index\n",
      "\n",
      "Parks_and_Housing:\n",
      "Weighted_ParksOnly_Average_distance_to_nearest_Park_or_Public_Garden_(m), Weighted_ParksOnly_Average_size_of_nearest_Park_or_Public_Garden_(m2), Weighted_ParksOnly_Average_number_of_Parks_or_Public_Gardens_within_1,000_m_radius, Weighted_ParksOnly_Number_of_built_up_area_postcodes__within_300m_of_a_Park_or_Public_Garden_(percentage), Weighted_ParksOnly_Number_of_built_up_area_postcodes__within_900m_of_a_Park_or_Public_Garden_(percentage), Weighted_ParksAndPlayingFields_Average_distance_to_nearest_Park_Public_Garden_or_Playing_Field_(m), Weighted_ParksAndPlayingFields_Average_size_of_nearest_Park_Public_Garden_or_Playing_Field_(m2), Weighted_ParksAndPlayingFields_Average_number_of__Parks_Public_Gardens_or_Playing_Fields_within_1,000_m_radius, Weighted_ParksAndPlayingFields_Number_of_built_up_area_postcodes__within_300m_of_a_Park_Public_Garden_or_Playing_Field_(percentage), Weighted_ParksAndPlayingFields_Number_of_built_up_area_postcodes__within_900m_of_a_Park_Public_Garden_or_Playing_Field_(percentage), Weighted_Houses_Percentage_of_adresses_with_private_outdoor_space, Weighted_Houses_Average_size_of_private_outdoor_space_(m2), Weighted_Houses_Median_size_of_private_outdoor_space_(m2), Weighted_Flats_Percentage_of_adresses_with_private_outdoor_space, Weighted_Flats_Average_size_of_private_outdoor_space_(m2), Weighted_Flats_Average_number_of_flats_sharing_a_garden, Weighted_Total_Percentage_of_adresses_with_private_outdoor_space\n",
      "Description: Data related to parks and housing\n",
      "\n",
      "Clean outliers method: IQR\n",
      "Threshold: 2.5\n",
      "Action: replace outliers with NaN\n",
      "Number of outliers replaced with NaN: 42669\n",
      "missing values method: mean\n",
      "Number of missing values handled: 60332\n",
      "Number of remaining missing values: 0\n",
      "Percentage of values handled: 1.64%\n",
      "\n",
      "Normalization method: Min-Max\n",
      "\n",
      "The param grid for xgboost model is:\n",
      "\n",
      "{'learning_rate': [0.01, 0.1], 'colsample_bytree': [0.5, 0.8, 1.0], 'reg_lambda': [0.01, 0.1, 1.0], 'n_estimators': [50, 100], 'max_depth': [5, 10]}\n",
      "model_name: xgboost\n",
      "cv: 3\n",
      "best_model: XGBRegressor(base_score=None, booster=None, callbacks=None,\n",
      "             colsample_bylevel=None, colsample_bynode=None,\n",
      "             colsample_bytree=0.5, device=None, early_stopping_rounds=None,\n",
      "             enable_categorical=False, eval_metric=None, feature_types=None,\n",
      "             gamma=None, grow_policy=None, importance_type=None,\n",
      "             interaction_constraints=None, learning_rate=0.1, max_bin=None,\n",
      "             max_cat_threshold=None, max_cat_to_onehot=None,\n",
      "             max_delta_step=None, max_depth=10, max_leaves=None,\n",
      "             min_child_weight=None, missing=nan, monotone_constraints=None,\n",
      "             multi_strategy=None, n_estimators=100, n_jobs=None,\n",
      "             num_parallel_tree=None, random_state=None, ...)\n",
      "best_params: {'objective': 'reg:squarederror', 'base_score': None, 'booster': None, 'callbacks': None, 'colsample_bylevel': None, 'colsample_bynode': None, 'colsample_bytree': 0.5, 'device': None, 'early_stopping_rounds': None, 'enable_categorical': False, 'eval_metric': None, 'feature_types': None, 'gamma': None, 'grow_policy': None, 'importance_type': None, 'interaction_constraints': None, 'learning_rate': 0.1, 'max_bin': None, 'max_cat_threshold': None, 'max_cat_to_onehot': None, 'max_delta_step': None, 'max_depth': 10, 'max_leaves': None, 'min_child_weight': None, 'missing': nan, 'monotone_constraints': None, 'multi_strategy': None, 'n_estimators': 100, 'n_jobs': None, 'num_parallel_tree': None, 'random_state': None, 'reg_alpha': None, 'reg_lambda': 0.01, 'sampling_method': None, 'scale_pos_weight': None, 'subsample': None, 'tree_method': None, 'validate_parameters': None, 'verbosity': None}\n",
      "cross_val_scores: [-0.42658079 -0.43710669 -0.42065418]\n",
      "mean_cross_val_score: -0.42811389009779344\n",
      "std_cross_val_score: 0.006803630540777613\n",
      "mean_cross_val_rmse: 0.6542835214810231\n",
      "r2_score: 0.8036508832696905\n",
      "mean_squared_error_test: 0.3392652683838638\n",
      "mean_absolute_error_test: 0.42901001724959453\n",
      "root_mean_squared_error_test: 0.5824648215848437\n",
      "std_test: 1.0340865\n",
      "Running time in minutes  :  14.919794058799743\n",
      "\n",
      " #########################  Experiment Number  2 #########################\n",
      "Years selected for filtering: ['2013', '2014', '2015', '2016', '2017', '2018', '2019']\n",
      "Selected Categories :\n",
      "\n",
      "Gender:\n",
      "Total_All, MALE_All, FEMALE_All, Male_0_4, Male_5_9, Male_10_14, Male_15_19, Male_20_24, Male_25_29, Male_30_34, Male_35_39, Male_40_44, Male_45_49, Male_50_54, Male_55_59, Male_60_64, Male_65_69, Male_70_74, Male_75_79, Male_80_84, Male_85+, Female_0_4, Female_5_9, Female_10_14, Female_15_19, Female_20_24, Female_25_29, Female_30_34, Female_35_39, Female_40_44, Female_45_49, Female_50_54, Female_55_59, Female_60_64, Female_65_69, Female_70_74, Female_75_79, Female_80_84, Female_85+\n",
      "Description: Demographic data based on gender\n",
      "\n",
      "Income:\n",
      "Weighted_Total_annual_income_(£), Weighted_Net_annual_income_(£), Weighted_Net_annual_income_before_housing_costs_(£), Weighted_Net_annual_income_after_housing_costs_(£)\n",
      "Description: Economic data related to income\n",
      "\n",
      "Deprivation:\n",
      "Weighted_Index_of_Multiple_Deprivation_(IMD), Weighted_Income, Weighted_Employment, Weighted_Education,_Skills_and_Training, Weighted_Health_Deprivation_and_Disability, Weighted_Crime, Weighted_Barriers_to_Housing_and_Services, Weighted_Living_Environment\n",
      "Description: Data related to deprivation index\n",
      "\n",
      "Parks_and_Housing:\n",
      "Weighted_ParksOnly_Average_distance_to_nearest_Park_or_Public_Garden_(m), Weighted_ParksOnly_Average_size_of_nearest_Park_or_Public_Garden_(m2), Weighted_ParksOnly_Average_number_of_Parks_or_Public_Gardens_within_1,000_m_radius, Weighted_ParksOnly_Number_of_built_up_area_postcodes__within_300m_of_a_Park_or_Public_Garden_(percentage), Weighted_ParksOnly_Number_of_built_up_area_postcodes__within_900m_of_a_Park_or_Public_Garden_(percentage), Weighted_ParksAndPlayingFields_Average_distance_to_nearest_Park_Public_Garden_or_Playing_Field_(m), Weighted_ParksAndPlayingFields_Average_size_of_nearest_Park_Public_Garden_or_Playing_Field_(m2), Weighted_ParksAndPlayingFields_Average_number_of__Parks_Public_Gardens_or_Playing_Fields_within_1,000_m_radius, Weighted_ParksAndPlayingFields_Number_of_built_up_area_postcodes__within_300m_of_a_Park_Public_Garden_or_Playing_Field_(percentage), Weighted_ParksAndPlayingFields_Number_of_built_up_area_postcodes__within_900m_of_a_Park_Public_Garden_or_Playing_Field_(percentage), Weighted_Houses_Percentage_of_adresses_with_private_outdoor_space, Weighted_Houses_Average_size_of_private_outdoor_space_(m2), Weighted_Houses_Median_size_of_private_outdoor_space_(m2), Weighted_Flats_Percentage_of_adresses_with_private_outdoor_space, Weighted_Flats_Average_size_of_private_outdoor_space_(m2), Weighted_Flats_Average_number_of_flats_sharing_a_garden, Weighted_Total_Percentage_of_adresses_with_private_outdoor_space\n",
      "Description: Data related to parks and housing\n",
      "\n",
      "Clean outliers method: StdDev\n",
      "Threshold: 3.0\n",
      "Action: remove outliers\n",
      "Number of outliers removed: 10464\n",
      "Number of rows in the cleaned dataset: 42238\n",
      "\n",
      "missing values method: mean\n",
      "Number of missing values handled: 12967\n",
      "Number of remaining missing values: 0\n",
      "Percentage of values handled: 0.44%\n",
      "\n",
      "Normalization method: Min-Max\n",
      "\n",
      "The param grid for xgboost model is:\n",
      "\n",
      "{'learning_rate': [0.01, 0.1], 'colsample_bytree': [0.5, 0.8, 1.0], 'reg_lambda': [0.01, 0.1, 1.0], 'n_estimators': [50, 100], 'max_depth': [5, 10]}\n",
      "model_name: xgboost\n",
      "cv: 3\n",
      "best_model: XGBRegressor(base_score=None, booster=None, callbacks=None,\n",
      "             colsample_bylevel=None, colsample_bynode=None,\n",
      "             colsample_bytree=1.0, device=None, early_stopping_rounds=None,\n",
      "             enable_categorical=False, eval_metric=None, feature_types=None,\n",
      "             gamma=None, grow_policy=None, importance_type=None,\n",
      "             interaction_constraints=None, learning_rate=0.1, max_bin=None,\n",
      "             max_cat_threshold=None, max_cat_to_onehot=None,\n",
      "             max_delta_step=None, max_depth=10, max_leaves=None,\n",
      "             min_child_weight=None, missing=nan, monotone_constraints=None,\n",
      "             multi_strategy=None, n_estimators=100, n_jobs=None,\n",
      "             num_parallel_tree=None, random_state=None, ...)\n",
      "best_params: {'objective': 'reg:squarederror', 'base_score': None, 'booster': None, 'callbacks': None, 'colsample_bylevel': None, 'colsample_bynode': None, 'colsample_bytree': 1.0, 'device': None, 'early_stopping_rounds': None, 'enable_categorical': False, 'eval_metric': None, 'feature_types': None, 'gamma': None, 'grow_policy': None, 'importance_type': None, 'interaction_constraints': None, 'learning_rate': 0.1, 'max_bin': None, 'max_cat_threshold': None, 'max_cat_to_onehot': None, 'max_delta_step': None, 'max_depth': 10, 'max_leaves': None, 'min_child_weight': None, 'missing': nan, 'monotone_constraints': None, 'multi_strategy': None, 'n_estimators': 100, 'n_jobs': None, 'num_parallel_tree': None, 'random_state': None, 'reg_alpha': None, 'reg_lambda': 0.1, 'sampling_method': None, 'scale_pos_weight': None, 'subsample': None, 'tree_method': None, 'validate_parameters': None, 'verbosity': None}\n",
      "cross_val_scores: [-0.42125226 -0.43321169 -0.4140687 ]\n",
      "mean_cross_val_score: -0.4228442172616078\n",
      "std_cross_val_score: 0.007895744945027912\n",
      "mean_cross_val_rmse: 0.6502364601713757\n",
      "r2_score: 0.8001351546044843\n",
      "mean_squared_error_test: 0.31841916352040495\n",
      "mean_absolute_error_test: 0.4214455736445432\n",
      "root_mean_squared_error_test: 0.5642864197554331\n",
      "std_test: 0.9690182\n",
      "Running time in minutes  :  12.581387376785278\n",
      "\n",
      " #########################  Experiment Number  3 #########################\n",
      "Years selected for filtering: ['2013', '2014', '2015', '2016', '2017', '2018', '2019']\n",
      "Selected Categories :\n",
      "\n",
      "Gender:\n",
      "Total_All, MALE_All, FEMALE_All, Male_0_4, Male_5_9, Male_10_14, Male_15_19, Male_20_24, Male_25_29, Male_30_34, Male_35_39, Male_40_44, Male_45_49, Male_50_54, Male_55_59, Male_60_64, Male_65_69, Male_70_74, Male_75_79, Male_80_84, Male_85+, Female_0_4, Female_5_9, Female_10_14, Female_15_19, Female_20_24, Female_25_29, Female_30_34, Female_35_39, Female_40_44, Female_45_49, Female_50_54, Female_55_59, Female_60_64, Female_65_69, Female_70_74, Female_75_79, Female_80_84, Female_85+\n",
      "Description: Demographic data based on gender\n",
      "\n",
      "Income:\n",
      "Weighted_Total_annual_income_(£), Weighted_Net_annual_income_(£), Weighted_Net_annual_income_before_housing_costs_(£), Weighted_Net_annual_income_after_housing_costs_(£)\n",
      "Description: Economic data related to income\n",
      "\n",
      "Deprivation:\n",
      "Weighted_Index_of_Multiple_Deprivation_(IMD), Weighted_Income, Weighted_Employment, Weighted_Education,_Skills_and_Training, Weighted_Health_Deprivation_and_Disability, Weighted_Crime, Weighted_Barriers_to_Housing_and_Services, Weighted_Living_Environment\n",
      "Description: Data related to deprivation index\n",
      "\n",
      "Parks_and_Housing:\n",
      "Weighted_ParksOnly_Average_distance_to_nearest_Park_or_Public_Garden_(m), Weighted_ParksOnly_Average_size_of_nearest_Park_or_Public_Garden_(m2), Weighted_ParksOnly_Average_number_of_Parks_or_Public_Gardens_within_1,000_m_radius, Weighted_ParksOnly_Number_of_built_up_area_postcodes__within_300m_of_a_Park_or_Public_Garden_(percentage), Weighted_ParksOnly_Number_of_built_up_area_postcodes__within_900m_of_a_Park_or_Public_Garden_(percentage), Weighted_ParksAndPlayingFields_Average_distance_to_nearest_Park_Public_Garden_or_Playing_Field_(m), Weighted_ParksAndPlayingFields_Average_size_of_nearest_Park_Public_Garden_or_Playing_Field_(m2), Weighted_ParksAndPlayingFields_Average_number_of__Parks_Public_Gardens_or_Playing_Fields_within_1,000_m_radius, Weighted_ParksAndPlayingFields_Number_of_built_up_area_postcodes__within_300m_of_a_Park_Public_Garden_or_Playing_Field_(percentage), Weighted_ParksAndPlayingFields_Number_of_built_up_area_postcodes__within_900m_of_a_Park_Public_Garden_or_Playing_Field_(percentage), Weighted_Houses_Percentage_of_adresses_with_private_outdoor_space, Weighted_Houses_Average_size_of_private_outdoor_space_(m2), Weighted_Houses_Median_size_of_private_outdoor_space_(m2), Weighted_Flats_Percentage_of_adresses_with_private_outdoor_space, Weighted_Flats_Average_size_of_private_outdoor_space_(m2), Weighted_Flats_Average_number_of_flats_sharing_a_garden, Weighted_Total_Percentage_of_adresses_with_private_outdoor_space\n",
      "Description: Data related to parks and housing\n",
      "\n",
      "Clean outliers method: IQR\n",
      "Threshold: 2.5\n",
      "Action: remove outliers\n",
      "Number of outliers removed: 14856\n",
      "Number of rows in the cleaned dataset: 37846\n",
      "\n",
      "missing values method: mean\n",
      "Number of missing values handled: 13102\n",
      "Number of remaining missing values: 0\n",
      "Percentage of values handled: 0.49%\n",
      "\n",
      "Normalization method: Min-Max\n",
      "\n",
      "The param grid for xgboost model is:\n",
      "\n",
      "{'learning_rate': [0.01, 0.1], 'colsample_bytree': [0.5, 0.8, 1.0], 'reg_lambda': [0.01, 0.1, 1.0], 'n_estimators': [50, 100], 'max_depth': [5, 10]}\n",
      "model_name: xgboost\n",
      "cv: 3\n",
      "best_model: XGBRegressor(base_score=None, booster=None, callbacks=None,\n",
      "             colsample_bylevel=None, colsample_bynode=None,\n",
      "             colsample_bytree=0.8, device=None, early_stopping_rounds=None,\n",
      "             enable_categorical=False, eval_metric=None, feature_types=None,\n",
      "             gamma=None, grow_policy=None, importance_type=None,\n",
      "             interaction_constraints=None, learning_rate=0.1, max_bin=None,\n",
      "             max_cat_threshold=None, max_cat_to_onehot=None,\n",
      "             max_delta_step=None, max_depth=10, max_leaves=None,\n",
      "             min_child_weight=None, missing=nan, monotone_constraints=None,\n",
      "             multi_strategy=None, n_estimators=100, n_jobs=None,\n",
      "             num_parallel_tree=None, random_state=None, ...)\n",
      "best_params: {'objective': 'reg:squarederror', 'base_score': None, 'booster': None, 'callbacks': None, 'colsample_bylevel': None, 'colsample_bynode': None, 'colsample_bytree': 0.8, 'device': None, 'early_stopping_rounds': None, 'enable_categorical': False, 'eval_metric': None, 'feature_types': None, 'gamma': None, 'grow_policy': None, 'importance_type': None, 'interaction_constraints': None, 'learning_rate': 0.1, 'max_bin': None, 'max_cat_threshold': None, 'max_cat_to_onehot': None, 'max_delta_step': None, 'max_depth': 10, 'max_leaves': None, 'min_child_weight': None, 'missing': nan, 'monotone_constraints': None, 'multi_strategy': None, 'n_estimators': 100, 'n_jobs': None, 'num_parallel_tree': None, 'random_state': None, 'reg_alpha': None, 'reg_lambda': 0.01, 'sampling_method': None, 'scale_pos_weight': None, 'subsample': None, 'tree_method': None, 'validate_parameters': None, 'verbosity': None}\n",
      "cross_val_scores: [-0.40702111 -0.42576873 -0.44796017]\n",
      "mean_cross_val_score: -0.42691666640850673\n",
      "std_cross_val_score: 0.016733001551193862\n",
      "mean_cross_val_rmse: 0.6532632941977884\n",
      "r2_score: 0.8077551772334657\n",
      "mean_squared_error_test: 0.3154676116451665\n",
      "mean_absolute_error_test: 0.4160188692359342\n",
      "root_mean_squared_error_test: 0.5616650350922394\n",
      "std_test: 0.98646384\n",
      "Running time in minutes  :  12.210720054308574\n",
      "\n",
      " #########################  Experiment Number  4 #########################\n",
      "Years selected for filtering: ['2013', '2014', '2015', '2016', '2017', '2018', '2019']\n",
      "Selected Categories :\n",
      "\n",
      "Gender:\n",
      "Total_All, MALE_All, FEMALE_All, Male_0_4, Male_5_9, Male_10_14, Male_15_19, Male_20_24, Male_25_29, Male_30_34, Male_35_39, Male_40_44, Male_45_49, Male_50_54, Male_55_59, Male_60_64, Male_65_69, Male_70_74, Male_75_79, Male_80_84, Male_85+, Female_0_4, Female_5_9, Female_10_14, Female_15_19, Female_20_24, Female_25_29, Female_30_34, Female_35_39, Female_40_44, Female_45_49, Female_50_54, Female_55_59, Female_60_64, Female_65_69, Female_70_74, Female_75_79, Female_80_84, Female_85+\n",
      "Description: Demographic data based on gender\n",
      "\n",
      "Income:\n",
      "Weighted_Total_annual_income_(£), Weighted_Net_annual_income_(£), Weighted_Net_annual_income_before_housing_costs_(£), Weighted_Net_annual_income_after_housing_costs_(£)\n",
      "Description: Economic data related to income\n",
      "\n",
      "Deprivation:\n",
      "Weighted_Index_of_Multiple_Deprivation_(IMD), Weighted_Income, Weighted_Employment, Weighted_Education,_Skills_and_Training, Weighted_Health_Deprivation_and_Disability, Weighted_Crime, Weighted_Barriers_to_Housing_and_Services, Weighted_Living_Environment\n",
      "Description: Data related to deprivation index\n",
      "\n",
      "Parks_and_Housing:\n",
      "Weighted_ParksOnly_Average_distance_to_nearest_Park_or_Public_Garden_(m), Weighted_ParksOnly_Average_size_of_nearest_Park_or_Public_Garden_(m2), Weighted_ParksOnly_Average_number_of_Parks_or_Public_Gardens_within_1,000_m_radius, Weighted_ParksOnly_Number_of_built_up_area_postcodes__within_300m_of_a_Park_or_Public_Garden_(percentage), Weighted_ParksOnly_Number_of_built_up_area_postcodes__within_900m_of_a_Park_or_Public_Garden_(percentage), Weighted_ParksAndPlayingFields_Average_distance_to_nearest_Park_Public_Garden_or_Playing_Field_(m), Weighted_ParksAndPlayingFields_Average_size_of_nearest_Park_Public_Garden_or_Playing_Field_(m2), Weighted_ParksAndPlayingFields_Average_number_of__Parks_Public_Gardens_or_Playing_Fields_within_1,000_m_radius, Weighted_ParksAndPlayingFields_Number_of_built_up_area_postcodes__within_300m_of_a_Park_Public_Garden_or_Playing_Field_(percentage), Weighted_ParksAndPlayingFields_Number_of_built_up_area_postcodes__within_900m_of_a_Park_Public_Garden_or_Playing_Field_(percentage), Weighted_Houses_Percentage_of_adresses_with_private_outdoor_space, Weighted_Houses_Average_size_of_private_outdoor_space_(m2), Weighted_Houses_Median_size_of_private_outdoor_space_(m2), Weighted_Flats_Percentage_of_adresses_with_private_outdoor_space, Weighted_Flats_Average_size_of_private_outdoor_space_(m2), Weighted_Flats_Average_number_of_flats_sharing_a_garden, Weighted_Total_Percentage_of_adresses_with_private_outdoor_space\n",
      "Description: Data related to parks and housing\n",
      "\n",
      "Clean outliers method: IQR\n",
      "Threshold: 2.5\n",
      "Action: replace outliers with NaN\n",
      "Number of outliers replaced with NaN: 42639\n",
      "missing values method: mean\n",
      "Number of missing values handled: 60311\n",
      "Number of remaining missing values: 0\n",
      "Percentage of values handled: 1.63%\n",
      "\n",
      "Normalization method: Min-Max\n",
      "\n",
      "The param grid for xgboost model is:\n",
      "\n",
      "{'learning_rate': [0.01, 0.1], 'colsample_bytree': [0.5, 0.8, 1.0], 'reg_lambda': [0.01, 0.1, 1.0], 'n_estimators': [50, 100], 'max_depth': [5, 10]}\n",
      "model_name: xgboost\n",
      "cv: 3\n",
      "best_model: XGBRegressor(base_score=None, booster=None, callbacks=None,\n",
      "             colsample_bylevel=None, colsample_bynode=None,\n",
      "             colsample_bytree=0.8, device=None, early_stopping_rounds=None,\n",
      "             enable_categorical=False, eval_metric=None, feature_types=None,\n",
      "             gamma=None, grow_policy=None, importance_type=None,\n",
      "             interaction_constraints=None, learning_rate=0.1, max_bin=None,\n",
      "             max_cat_threshold=None, max_cat_to_onehot=None,\n",
      "             max_delta_step=None, max_depth=10, max_leaves=None,\n",
      "             min_child_weight=None, missing=nan, monotone_constraints=None,\n",
      "             multi_strategy=None, n_estimators=100, n_jobs=None,\n",
      "             num_parallel_tree=None, random_state=None, ...)\n",
      "best_params: {'objective': 'reg:squarederror', 'base_score': None, 'booster': None, 'callbacks': None, 'colsample_bylevel': None, 'colsample_bynode': None, 'colsample_bytree': 0.8, 'device': None, 'early_stopping_rounds': None, 'enable_categorical': False, 'eval_metric': None, 'feature_types': None, 'gamma': None, 'grow_policy': None, 'importance_type': None, 'interaction_constraints': None, 'learning_rate': 0.1, 'max_bin': None, 'max_cat_threshold': None, 'max_cat_to_onehot': None, 'max_delta_step': None, 'max_depth': 10, 'max_leaves': None, 'min_child_weight': None, 'missing': nan, 'monotone_constraints': None, 'multi_strategy': None, 'n_estimators': 100, 'n_jobs': None, 'num_parallel_tree': None, 'random_state': None, 'reg_alpha': None, 'reg_lambda': 0.01, 'sampling_method': None, 'scale_pos_weight': None, 'subsample': None, 'tree_method': None, 'validate_parameters': None, 'verbosity': None}\n",
      "cross_val_scores: [-0.11946945 -0.12284964 -0.11916804]\n",
      "mean_cross_val_score: -0.12049571025861812\n",
      "std_cross_val_score: 0.0016690199950265285\n",
      "mean_cross_val_rmse: 0.3471166344462811\n",
      "r2_score: 0.8836552723790088\n",
      "mean_squared_error_test: 0.09644483739433625\n",
      "mean_absolute_error_test: 0.2133058404763883\n",
      "root_mean_squared_error_test: 0.31055569129277966\n",
      "std_test: 0.8120372\n",
      "Running time in minutes  :  15.004867748419445\n",
      "\n",
      " #########################  Experiment Number  5 #########################\n",
      "Years selected for filtering: ['2013', '2014', '2015', '2016', '2017', '2018', '2019']\n",
      "Selected Categories :\n",
      "\n",
      "Gender:\n",
      "Total_All, MALE_All, FEMALE_All, Male_0_4, Male_5_9, Male_10_14, Male_15_19, Male_20_24, Male_25_29, Male_30_34, Male_35_39, Male_40_44, Male_45_49, Male_50_54, Male_55_59, Male_60_64, Male_65_69, Male_70_74, Male_75_79, Male_80_84, Male_85+, Female_0_4, Female_5_9, Female_10_14, Female_15_19, Female_20_24, Female_25_29, Female_30_34, Female_35_39, Female_40_44, Female_45_49, Female_50_54, Female_55_59, Female_60_64, Female_65_69, Female_70_74, Female_75_79, Female_80_84, Female_85+\n",
      "Description: Demographic data based on gender\n",
      "\n",
      "Income:\n",
      "Weighted_Total_annual_income_(£), Weighted_Net_annual_income_(£), Weighted_Net_annual_income_before_housing_costs_(£), Weighted_Net_annual_income_after_housing_costs_(£)\n",
      "Description: Economic data related to income\n",
      "\n",
      "Deprivation:\n",
      "Weighted_Index_of_Multiple_Deprivation_(IMD), Weighted_Income, Weighted_Employment, Weighted_Education,_Skills_and_Training, Weighted_Health_Deprivation_and_Disability, Weighted_Crime, Weighted_Barriers_to_Housing_and_Services, Weighted_Living_Environment\n",
      "Description: Data related to deprivation index\n",
      "\n",
      "Parks_and_Housing:\n",
      "Weighted_ParksOnly_Average_distance_to_nearest_Park_or_Public_Garden_(m), Weighted_ParksOnly_Average_size_of_nearest_Park_or_Public_Garden_(m2), Weighted_ParksOnly_Average_number_of_Parks_or_Public_Gardens_within_1,000_m_radius, Weighted_ParksOnly_Number_of_built_up_area_postcodes__within_300m_of_a_Park_or_Public_Garden_(percentage), Weighted_ParksOnly_Number_of_built_up_area_postcodes__within_900m_of_a_Park_or_Public_Garden_(percentage), Weighted_ParksAndPlayingFields_Average_distance_to_nearest_Park_Public_Garden_or_Playing_Field_(m), Weighted_ParksAndPlayingFields_Average_size_of_nearest_Park_Public_Garden_or_Playing_Field_(m2), Weighted_ParksAndPlayingFields_Average_number_of__Parks_Public_Gardens_or_Playing_Fields_within_1,000_m_radius, Weighted_ParksAndPlayingFields_Number_of_built_up_area_postcodes__within_300m_of_a_Park_Public_Garden_or_Playing_Field_(percentage), Weighted_ParksAndPlayingFields_Number_of_built_up_area_postcodes__within_900m_of_a_Park_Public_Garden_or_Playing_Field_(percentage), Weighted_Houses_Percentage_of_adresses_with_private_outdoor_space, Weighted_Houses_Average_size_of_private_outdoor_space_(m2), Weighted_Houses_Median_size_of_private_outdoor_space_(m2), Weighted_Flats_Percentage_of_adresses_with_private_outdoor_space, Weighted_Flats_Average_size_of_private_outdoor_space_(m2), Weighted_Flats_Average_number_of_flats_sharing_a_garden, Weighted_Total_Percentage_of_adresses_with_private_outdoor_space\n",
      "Description: Data related to parks and housing\n",
      "\n",
      "Clean outliers method: StdDev\n",
      "Threshold: 3.0\n",
      "Action: remove outliers\n",
      "Number of outliers removed: 10438\n",
      "Number of rows in the cleaned dataset: 42264\n",
      "\n",
      "missing values method: mean\n",
      "Number of missing values handled: 16631\n",
      "Number of remaining missing values: 0\n",
      "Percentage of values handled: 0.56%\n",
      "\n",
      "Normalization method: Min-Max\n",
      "\n",
      "The param grid for xgboost model is:\n",
      "\n",
      "{'learning_rate': [0.01, 0.1], 'colsample_bytree': [0.5, 0.8, 1.0], 'reg_lambda': [0.01, 0.1, 1.0], 'n_estimators': [50, 100], 'max_depth': [5, 10]}\n",
      "model_name: xgboost\n",
      "cv: 3\n",
      "best_model: XGBRegressor(base_score=None, booster=None, callbacks=None,\n",
      "             colsample_bylevel=None, colsample_bynode=None,\n",
      "             colsample_bytree=0.8, device=None, early_stopping_rounds=None,\n",
      "             enable_categorical=False, eval_metric=None, feature_types=None,\n",
      "             gamma=None, grow_policy=None, importance_type=None,\n",
      "             interaction_constraints=None, learning_rate=0.1, max_bin=None,\n",
      "             max_cat_threshold=None, max_cat_to_onehot=None,\n",
      "             max_delta_step=None, max_depth=10, max_leaves=None,\n",
      "             min_child_weight=None, missing=nan, monotone_constraints=None,\n",
      "             multi_strategy=None, n_estimators=100, n_jobs=None,\n",
      "             num_parallel_tree=None, random_state=None, ...)\n",
      "best_params: {'objective': 'reg:squarederror', 'base_score': None, 'booster': None, 'callbacks': None, 'colsample_bylevel': None, 'colsample_bynode': None, 'colsample_bytree': 0.8, 'device': None, 'early_stopping_rounds': None, 'enable_categorical': False, 'eval_metric': None, 'feature_types': None, 'gamma': None, 'grow_policy': None, 'importance_type': None, 'interaction_constraints': None, 'learning_rate': 0.1, 'max_bin': None, 'max_cat_threshold': None, 'max_cat_to_onehot': None, 'max_delta_step': None, 'max_depth': 10, 'max_leaves': None, 'min_child_weight': None, 'missing': nan, 'monotone_constraints': None, 'multi_strategy': None, 'n_estimators': 100, 'n_jobs': None, 'num_parallel_tree': None, 'random_state': None, 'reg_alpha': None, 'reg_lambda': 0.1, 'sampling_method': None, 'scale_pos_weight': None, 'subsample': None, 'tree_method': None, 'validate_parameters': None, 'verbosity': None}\n",
      "cross_val_scores: [-0.10962365 -0.11156608 -0.1124043 ]\n",
      "mean_cross_val_score: -0.111198011315654\n",
      "std_cross_val_score: 0.0011646512250674294\n",
      "mean_cross_val_rmse: 0.33345907480451914\n",
      "r2_score: 0.8967978221347502\n",
      "mean_squared_error_test: 0.08256228360021556\n",
      "mean_absolute_error_test: 0.20574030912791175\n",
      "root_mean_squared_error_test: 0.2873365337025829\n",
      "std_test: 0.79335564\n",
      "Running time in minutes  :  13.950199313958485\n",
      "\n",
      " #########################  Experiment Number  6 #########################\n",
      "Years selected for filtering: ['2013', '2014', '2015', '2016', '2017', '2018', '2019']\n",
      "Selected Categories :\n",
      "\n",
      "Gender:\n",
      "Total_All, MALE_All, FEMALE_All, Male_0_4, Male_5_9, Male_10_14, Male_15_19, Male_20_24, Male_25_29, Male_30_34, Male_35_39, Male_40_44, Male_45_49, Male_50_54, Male_55_59, Male_60_64, Male_65_69, Male_70_74, Male_75_79, Male_80_84, Male_85+, Female_0_4, Female_5_9, Female_10_14, Female_15_19, Female_20_24, Female_25_29, Female_30_34, Female_35_39, Female_40_44, Female_45_49, Female_50_54, Female_55_59, Female_60_64, Female_65_69, Female_70_74, Female_75_79, Female_80_84, Female_85+\n",
      "Description: Demographic data based on gender\n",
      "\n",
      "Income:\n",
      "Weighted_Total_annual_income_(£), Weighted_Net_annual_income_(£), Weighted_Net_annual_income_before_housing_costs_(£), Weighted_Net_annual_income_after_housing_costs_(£)\n",
      "Description: Economic data related to income\n",
      "\n",
      "Deprivation:\n",
      "Weighted_Index_of_Multiple_Deprivation_(IMD), Weighted_Income, Weighted_Employment, Weighted_Education,_Skills_and_Training, Weighted_Health_Deprivation_and_Disability, Weighted_Crime, Weighted_Barriers_to_Housing_and_Services, Weighted_Living_Environment\n",
      "Description: Data related to deprivation index\n",
      "\n",
      "Parks_and_Housing:\n",
      "Weighted_ParksOnly_Average_distance_to_nearest_Park_or_Public_Garden_(m), Weighted_ParksOnly_Average_size_of_nearest_Park_or_Public_Garden_(m2), Weighted_ParksOnly_Average_number_of_Parks_or_Public_Gardens_within_1,000_m_radius, Weighted_ParksOnly_Number_of_built_up_area_postcodes__within_300m_of_a_Park_or_Public_Garden_(percentage), Weighted_ParksOnly_Number_of_built_up_area_postcodes__within_900m_of_a_Park_or_Public_Garden_(percentage), Weighted_ParksAndPlayingFields_Average_distance_to_nearest_Park_Public_Garden_or_Playing_Field_(m), Weighted_ParksAndPlayingFields_Average_size_of_nearest_Park_Public_Garden_or_Playing_Field_(m2), Weighted_ParksAndPlayingFields_Average_number_of__Parks_Public_Gardens_or_Playing_Fields_within_1,000_m_radius, Weighted_ParksAndPlayingFields_Number_of_built_up_area_postcodes__within_300m_of_a_Park_Public_Garden_or_Playing_Field_(percentage), Weighted_ParksAndPlayingFields_Number_of_built_up_area_postcodes__within_900m_of_a_Park_Public_Garden_or_Playing_Field_(percentage), Weighted_Houses_Percentage_of_adresses_with_private_outdoor_space, Weighted_Houses_Average_size_of_private_outdoor_space_(m2), Weighted_Houses_Median_size_of_private_outdoor_space_(m2), Weighted_Flats_Percentage_of_adresses_with_private_outdoor_space, Weighted_Flats_Average_size_of_private_outdoor_space_(m2), Weighted_Flats_Average_number_of_flats_sharing_a_garden, Weighted_Total_Percentage_of_adresses_with_private_outdoor_space\n",
      "Description: Data related to parks and housing\n",
      "\n",
      "Clean outliers method: IQR\n",
      "Threshold: 2.5\n",
      "Action: remove outliers\n",
      "Number of outliers removed: 14840\n",
      "Number of rows in the cleaned dataset: 37862\n",
      "\n",
      "missing values method: mean\n",
      "Number of missing values handled: 16276\n",
      "Number of remaining missing values: 0\n",
      "Percentage of values handled: 0.61%\n",
      "\n",
      "Normalization method: Min-Max\n",
      "\n",
      "The param grid for xgboost model is:\n",
      "\n",
      "{'learning_rate': [0.01, 0.1], 'colsample_bytree': [0.5, 0.8, 1.0], 'reg_lambda': [0.01, 0.1, 1.0], 'n_estimators': [50, 100], 'max_depth': [5, 10]}\n",
      "model_name: xgboost\n",
      "cv: 3\n",
      "best_model: XGBRegressor(base_score=None, booster=None, callbacks=None,\n",
      "             colsample_bylevel=None, colsample_bynode=None,\n",
      "             colsample_bytree=0.8, device=None, early_stopping_rounds=None,\n",
      "             enable_categorical=False, eval_metric=None, feature_types=None,\n",
      "             gamma=None, grow_policy=None, importance_type=None,\n",
      "             interaction_constraints=None, learning_rate=0.1, max_bin=None,\n",
      "             max_cat_threshold=None, max_cat_to_onehot=None,\n",
      "             max_delta_step=None, max_depth=10, max_leaves=None,\n",
      "             min_child_weight=None, missing=nan, monotone_constraints=None,\n",
      "             multi_strategy=None, n_estimators=100, n_jobs=None,\n",
      "             num_parallel_tree=None, random_state=None, ...)\n",
      "best_params: {'objective': 'reg:squarederror', 'base_score': None, 'booster': None, 'callbacks': None, 'colsample_bylevel': None, 'colsample_bynode': None, 'colsample_bytree': 0.8, 'device': None, 'early_stopping_rounds': None, 'enable_categorical': False, 'eval_metric': None, 'feature_types': None, 'gamma': None, 'grow_policy': None, 'importance_type': None, 'interaction_constraints': None, 'learning_rate': 0.1, 'max_bin': None, 'max_cat_threshold': None, 'max_cat_to_onehot': None, 'max_delta_step': None, 'max_depth': 10, 'max_leaves': None, 'min_child_weight': None, 'missing': nan, 'monotone_constraints': None, 'multi_strategy': None, 'n_estimators': 100, 'n_jobs': None, 'num_parallel_tree': None, 'random_state': None, 'reg_alpha': None, 'reg_lambda': 1.0, 'sampling_method': None, 'scale_pos_weight': None, 'subsample': None, 'tree_method': None, 'validate_parameters': None, 'verbosity': None}\n",
      "cross_val_scores: [-0.11150719 -0.11769851 -0.11462551]\n",
      "mean_cross_val_score: -0.11461040089283309\n",
      "std_cross_val_score: 0.0025276171362288665\n",
      "mean_cross_val_rmse: 0.3385209901116987\n",
      "r2_score: 0.9066851155184703\n",
      "mean_squared_error_test: 0.08032929395728304\n",
      "mean_absolute_error_test: 0.20163394655732253\n",
      "root_mean_squared_error_test: 0.2834242296580923\n",
      "std_test: 0.8259393\n",
      "Running time in minutes  :  13.574726700782776\n"
     ]
    }
   ],
   "source": [
    "panel_path = 'InputData\\Panel_06.csv'\n",
    "ExprimentTracker_path ='InputData\\‏‏ExprimentTracker_Xgboost_with2013.xlsx'\n",
    "test = Final_fun (ExprimentTracker_path,panel_path)\n"
   ]
  },
  {
   "cell_type": "code",
   "execution_count": 36,
   "metadata": {
    "tags": []
   },
   "outputs": [
    {
     "name": "stdout",
     "output_type": "stream",
     "text": [
      "hoo\n"
     ]
    }
   ],
   "source": [
    "print(\"hoo\")"
   ]
  },
  {
   "cell_type": "code",
   "execution_count": null,
   "metadata": {},
   "outputs": [],
   "source": []
  },
  {
   "cell_type": "code",
   "execution_count": null,
   "metadata": {
    "tags": []
   },
   "outputs": [],
   "source": []
  },
  {
   "cell_type": "code",
   "execution_count": null,
   "metadata": {},
   "outputs": [],
   "source": []
  }
 ],
 "metadata": {
  "kaggle": {
   "accelerator": "none",
   "dataSources": [
    {
     "datasetId": 5224704,
     "sourceId": 8709750,
     "sourceType": "datasetVersion"
    },
    {
     "datasetId": 5262183,
     "sourceId": 8758805,
     "sourceType": "datasetVersion"
    }
   ],
   "dockerImageVersionId": 30733,
   "isGpuEnabled": false,
   "isInternetEnabled": true,
   "language": "python",
   "sourceType": "notebook"
  },
  "kernelspec": {
   "display_name": "Python 3 (ipykernel)",
   "language": "python",
   "name": "python3"
  },
  "language_info": {
   "codemirror_mode": {
    "name": "ipython",
    "version": 3
   },
   "file_extension": ".py",
   "mimetype": "text/x-python",
   "name": "python",
   "nbconvert_exporter": "python",
   "pygments_lexer": "ipython3",
   "version": "3.11.8"
  },
  "toc-autonumbering": false,
  "toc-showcode": false,
  "toc-showmarkdowntxt": false,
  "toc-showtags": false
 },
 "nbformat": 4,
 "nbformat_minor": 4
}
